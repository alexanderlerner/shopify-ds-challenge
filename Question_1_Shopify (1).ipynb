{
 "cells": [
  {
   "cell_type": "markdown",
   "id": "919881b3",
   "metadata": {},
   "source": [
    "# Fall 2022 Data Science Intern Challenge \n",
    "\n",
    "On Shopify, we have exactly 100 sneaker shops, and each of these shops sells only one model of shoe. We want to do some analysis of the average order value (AOV). When we look at orders data over a 30 day window, we naively calculate an AOV of \\\\$3145.13. Given that we know these shops are selling sneakers, a relatively affordable item, something seems wrong with our analysis. \n"
   ]
  },
  {
   "cell_type": "code",
   "execution_count": 32,
   "id": "2ff0ac54",
   "metadata": {},
   "outputs": [],
   "source": [
    "import pandas as pd\n",
    "import numpy as np"
   ]
  },
  {
   "cell_type": "code",
   "execution_count": 30,
   "id": "e25a0be0",
   "metadata": {},
   "outputs": [],
   "source": [
    "df = pd.read_csv(\"Shopify_data.csv\")"
   ]
  },
  {
   "cell_type": "code",
   "execution_count": 31,
   "id": "d3c81595",
   "metadata": {},
   "outputs": [
    {
     "data": {
      "text/plain": [
       "count      5000.000000\n",
       "mean       3145.128000\n",
       "std       41282.539349\n",
       "min          90.000000\n",
       "25%         163.000000\n",
       "50%         284.000000\n",
       "75%         390.000000\n",
       "max      704000.000000\n",
       "Name: order_amount, dtype: float64"
      ]
     },
     "execution_count": 31,
     "metadata": {},
     "output_type": "execute_result"
    }
   ],
   "source": [
    "df[\"order_amount\"].describe()"
   ]
  },
  {
   "cell_type": "markdown",
   "id": "656ee28d",
   "metadata": {},
   "source": [
    "As we see here, our average order value is indeed \\\\$3145.13 which does not make sense as we are looking at shoes. Furthermore, our standard deviation is outrageously large, at \\\\$41282 . This suggests the existence of outliers in the data (and potentially fraud). However when looking at quantiles, we see that the median order value (MOV) is much more reasonable at \\\\$284. Therefore, we would want to report median order value at \\\\$284"
   ]
  }
 ],
 "metadata": {
  "kernelspec": {
   "display_name": "Python 3.8.12 ('local_nmt')",
   "language": "python",
   "name": "python3812jvsc74a57bd0a39132a9c0c854d0ab23001acfc0793627250c586e17e37e8851e195e80ccae6"
  },
  "language_info": {
   "codemirror_mode": {
    "name": "ipython",
    "version": 3
   },
   "file_extension": ".py",
   "mimetype": "text/x-python",
   "name": "python",
   "nbconvert_exporter": "python",
   "pygments_lexer": "ipython3",
   "version": "3.8.12"
  }
 },
 "nbformat": 4,
 "nbformat_minor": 5
}
